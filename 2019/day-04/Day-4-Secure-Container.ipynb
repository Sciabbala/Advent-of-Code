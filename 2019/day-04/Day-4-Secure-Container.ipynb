{
 "cells": [
  {
   "cell_type": "markdown",
   "metadata": {},
   "source": [
    "# Day 4: Secure Container\n",
    "## PART I\n",
    "You arrive at the Venus fuel depot only to discover it's protected by a password. The Elves had written the password on a sticky note, but someone threw it out.\n",
    "\n",
    "However, they do remember a few key facts about the password:\n",
    "\n",
    "It is a six-digit number.\n",
    "The value is within the range given in your puzzle input.\n",
    "Two adjacent digits are the same (like 22 in 122345).\n",
    "Going from left to right, the digits never decrease; they only ever increase or stay the same (like 111123 or 135679).\n",
    "Other than the range rule, the following are true:\n",
    "\n",
    "111111 meets these criteria (double 11, never decreases).\n",
    "223450 does not meet these criteria (decreasing pair of digits 50).\n",
    "123789 does not meet these criteria (no double).\n",
    "How many different passwords within the range given in your puzzle input meet these criteria?\n",
    "\n",
    "Your puzzle input is 234208-765869."
   ]
  },
  {
   "cell_type": "code",
   "execution_count": 1,
   "metadata": {},
   "outputs": [],
   "source": [
    "# Variables\n",
    "n_passwords, start, stop = 0, 234208, 765869\n",
    "\n",
    "# Check if each possible number meets the requirements to be a password\n",
    "for number in range(start, stop + 1):\n",
    "    password = str(number)\n",
    "    # Condition to check if the numbers only increase or stay the same\n",
    "    is_increasing = password == \"\".join(sorted(password))\n",
    "    # Condition to check if the password has repeated numbers\n",
    "    is_repeated = len(password) > len(set(password))\n",
    "    # If both condition are met, the number is a possible password.\n",
    "    if is_increasing and is_repeated:\n",
    "        n_passwords += 1"
   ]
  },
  {
   "cell_type": "code",
   "execution_count": 2,
   "metadata": {},
   "outputs": [
    {
     "name": "stdout",
     "output_type": "stream",
     "text": [
      "The number of possible passwords is 1246.\n"
     ]
    }
   ],
   "source": [
    "# Print the answer\n",
    "print(f\"The number of possible passwords is {n_passwords}.\")"
   ]
  },
  {
   "cell_type": "markdown",
   "metadata": {},
   "source": [
    "## PART II\n",
    "An Elf just remembered one more important detail: the two adjacent matching digits are not part of a larger group of matching digits.\n",
    "\n",
    "Given this additional criterion, but still ignoring the range rule, the following are now true:\n",
    "\n",
    "- 112233 meets these criteria because the digits never decrease and all repeated digits are exactly two digits long.\n",
    "- 123444 no longer meets the criteria (the repeated 44 is part of a larger group of 444).\n",
    "- 111122 meets the criteria (even though 1 is repeated more than twice, it still contains a double 22).\n",
    "\n",
    "How many different passwords within the range given in your puzzle input meet all of the criteria?"
   ]
  },
  {
   "cell_type": "code",
   "execution_count": 3,
   "metadata": {},
   "outputs": [],
   "source": [
    "# Variables\n",
    "n_passwords, start, stop = 0, 234208, 765869\n",
    "\n",
    "# Check if each possible number meets the requirements to be a password\n",
    "for number in range(start, stop + 1):\n",
    "    password = str(number)\n",
    "    # Condition to check if the numbers only increase or stay the same\n",
    "    is_increasing = password == \"\".join(sorted(password))\n",
    "    # Condition to check if the password has repeated numbers\n",
    "    is_repeated = 2 in [password.count(char) for char in set(password)]\n",
    "    # If both condition are met, the number is a possible password.\n",
    "    if is_increasing and is_repeated:\n",
    "        n_passwords += 1"
   ]
  },
  {
   "cell_type": "code",
   "execution_count": 4,
   "metadata": {},
   "outputs": [
    {
     "name": "stdout",
     "output_type": "stream",
     "text": [
      "The number of possible passwords is 814.\n"
     ]
    }
   ],
   "source": [
    "# Print the answer\n",
    "print(f\"The number of possible passwords is {n_passwords}.\")"
   ]
  }
 ],
 "metadata": {
  "kernelspec": {
   "display_name": "Python 3",
   "language": "python",
   "name": "python3"
  },
  "language_info": {
   "codemirror_mode": {
    "name": "ipython",
    "version": 3
   },
   "file_extension": ".py",
   "mimetype": "text/x-python",
   "name": "python",
   "nbconvert_exporter": "python",
   "pygments_lexer": "ipython3",
   "version": "3.7.4"
  }
 },
 "nbformat": 4,
 "nbformat_minor": 2
}
