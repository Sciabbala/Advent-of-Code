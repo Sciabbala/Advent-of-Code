{
 "cells": [
  {
   "cell_type": "markdown",
   "metadata": {},
   "source": [
    "# Day 6: Universal Orbit Map\n",
    "## PART I\n",
    "You've landed at the Universal Orbit Map facility on Mercury. Because navigation in space often involves transferring between orbits, the orbit maps here are useful for finding efficient routes between, for example, you and Santa. You download a map of the local orbits (your puzzle input).\n",
    "\n",
    "Except for the universal Center of Mass (COM), every object in space is in orbit around exactly one other object. An orbit looks roughly like this:\n",
    "\n",
    "```\n",
    "\n",
    "                  \\\n",
    "                   \\\n",
    "                    |\n",
    "                    |\n",
    "AAA--> o            o <--BBB\n",
    "                    |\n",
    "                    |\n",
    "                   /\n",
    "                  /\n",
    "```\n",
    "\n",
    "In this diagram, the object BBB is in orbit around AAA. The path that BBB takes around AAA (drawn with lines) is only partly shown. In the map data, this orbital relationship is written AAA)BBB, which means \"BBB is in orbit around AAA\".\n",
    "\n",
    "Before you use your map data to plot a course, you need to make sure it wasn't corrupted during the download. To verify maps, the Universal Orbit Map facility uses orbit count checksums - the total number of direct orbits (like the one shown above) and indirect orbits.\n",
    "\n",
    "Whenever A orbits B and B orbits C, then A indirectly orbits C. This chain can be any number of objects long: if A orbits B, B orbits C, and C orbits D, then A indirectly orbits D.\n",
    "\n",
    "For example, suppose you have the following map:\n",
    "\n",
    "```\n",
    "COM)B\n",
    "B)C\n",
    "C)D\n",
    "D)E\n",
    "E)F\n",
    "B)G\n",
    "G)H\n",
    "D)I\n",
    "E)J\n",
    "J)K\n",
    "K)L\n",
    "```\n",
    "\n",
    "Visually, the above map of orbits looks like this:\n",
    "\n",
    "```\n",
    "\n",
    "        G - H       J - K - L\n",
    "       /           /\n",
    "COM - B - C - D - E - F\n",
    "               \\\n",
    "                I\n",
    "```\n",
    "\n",
    "In this visual representation, when two objects are connected by a line, the one on the right directly orbits the one on the left.\n",
    "\n",
    "Here, we can count the total number of orbits as follows:\n",
    "\n",
    "- D directly orbits C and indirectly orbits B and COM, a total of 3 orbits.\n",
    "- L directly orbits K and indirectly orbits J, E, D, C, B, and COM, a total of 7 orbits. COM orbits nothing.\n",
    "- The total number of direct and indirect orbits in this example is 42.\n",
    "\n",
    "What is the total number of direct and indirect orbits in your map data?"
   ]
  },
  {
   "cell_type": "code",
   "execution_count": 1,
   "metadata": {},
   "outputs": [],
   "source": [
    "def create_orbits_dictionary(orbits):\n",
    "    orbits_dict = {}                  \n",
    "\n",
    "    for orbit in orbits:\n",
    "        object_A, object_B = orbit.split(')')\n",
    "        orbits_dict.setdefault(object_A, []).append(object_B)\n",
    "        \n",
    "    return orbits_dict"
   ]
  },
  {
   "cell_type": "code",
   "execution_count": 2,
   "metadata": {},
   "outputs": [],
   "source": [
    "def find_all_orbits(orbits_dict):\n",
    "    all_orbits = ['COM']\n",
    "\n",
    "    for orbit in all_orbits:\n",
    "        last_obj = orbit.split(\"-\")[-1]\n",
    "        if last_obj in orbits_dict.keys():\n",
    "            all_orbits += [f\"{orbit}-{next_obj}\" for next_obj in orbits_dict[last_obj]]\n",
    "            \n",
    "    return all_orbits"
   ]
  },
  {
   "cell_type": "code",
   "execution_count": 3,
   "metadata": {},
   "outputs": [
    {
     "name": "stdout",
     "output_type": "stream",
     "text": [
      "The total number of orbits is 119831.\n"
     ]
    }
   ],
   "source": [
    "# Read and clean data\n",
    "orbits = [item.strip('\\n') for item in open(\"./data/orbits.txt\")]\n",
    "\n",
    "# Create a dict with an object as a key and the objects that orbit around it as a value\n",
    "orbits_dict = create_orbits_dictionary(orbits)\n",
    "\n",
    "# Find all orbit paths\n",
    "all_orbits = find_all_orbits(orbits_dict)\n",
    "\n",
    "# Find the total number of direct and indirect orbits\n",
    "total_orbits = sum(orbit.count('-') for orbit in all_orbits)\n",
    "\n",
    "# Print the results\n",
    "print(f\"The total number of orbits is {total_orbits}.\")"
   ]
  },
  {
   "cell_type": "markdown",
   "metadata": {},
   "source": [
    "## PART II\n",
    "Now, you just need to figure out how many orbital transfers you (YOU) need to take to get to Santa (SAN).\n",
    "\n",
    "You start at the object YOU are orbiting; your destination is the object SAN is orbiting. An orbital transfer lets you move from any object to an object orbiting or orbited by that object.\n",
    "\n",
    "For example, suppose you have the following map:\n",
    "\n",
    "```\n",
    "COM)B\n",
    "B)C\n",
    "C)D\n",
    "D)E\n",
    "E)F\n",
    "B)G\n",
    "G)H\n",
    "D)I\n",
    "E)J\n",
    "J)K\n",
    "K)L\n",
    "K)YOU\n",
    "I)SAN\n",
    "\n",
    "```\n",
    "\n",
    "Visually, the above map of orbits looks like this:\n",
    "\n",
    "```\n",
    "\n",
    "                          YOU\n",
    "                         /\n",
    "        G - H       J - K - L\n",
    "       /           /\n",
    "COM - B - C - D - E - F\n",
    "               \\\n",
    "                I - SAN\n",
    "                \n",
    "```\n",
    "\n",
    "In this example, YOU are in orbit around K, and SAN is in orbit around I. To move from K to I, a minimum of 4 orbital transfers are required:\n",
    "\n",
    "```\n",
    "K to J\n",
    "J to E\n",
    "E to D\n",
    "D to I\n",
    "```\n",
    "\n",
    "Afterward, the map of orbits looks like this:\n",
    "\n",
    "```\n",
    "        G - H       J - K - L\n",
    "       /           /\n",
    "COM - B - C - D - E - F\n",
    "               \\\n",
    "                I - SAN\n",
    "                 \\\n",
    "                  YOU\n",
    "```\n",
    "\n",
    "What is the minimum number of orbital transfers required to move from the object YOU are orbiting to the object SAN is orbiting? (Between the objects they are orbiting - not between YOU and SAN.)"
   ]
  },
  {
   "cell_type": "code",
   "execution_count": 4,
   "metadata": {},
   "outputs": [],
   "source": [
    "def find_orbit_objects(end, all_orbits):\n",
    "    return [orbit for orbit in all_orbits if end in orbit][0].split(\"-\")[:-1]"
   ]
  },
  {
   "cell_type": "code",
   "execution_count": 5,
   "metadata": {},
   "outputs": [],
   "source": [
    "def find_objects_between(orbits_A, orbits_B):\n",
    "    objects_between = []\n",
    "    for obj in orbits_A[1:]:\n",
    "        if obj not in orbits_B:\n",
    "            objects_between.append(obj)\n",
    "        else:\n",
    "            objects_between.append(obj)\n",
    "            return objects_between\n",
    "    return \"The orbits don't share any objects.\""
   ]
  },
  {
   "cell_type": "code",
   "execution_count": 6,
   "metadata": {},
   "outputs": [],
   "source": [
    "# Find SAN orbits\n",
    "san = find_orbit_objects(\"SAN\", all_orbits)\n",
    "# Find YOU orbits\n",
    "you = find_orbit_objects('YOU', all_orbits)"
   ]
  },
  {
   "cell_type": "code",
   "execution_count": 7,
   "metadata": {},
   "outputs": [
    {
     "name": "stdout",
     "output_type": "stream",
     "text": [
      "The number of orbital transfers is 322.\n"
     ]
    }
   ],
   "source": [
    "# Variables\n",
    "shortest_path = ''\n",
    "\n",
    "# Reverse list in order to start iterating from the closest object to YOU\n",
    "you.reverse()\n",
    "\n",
    "# Find all the objects between YOU and the first object that is also included in SAN orbits\n",
    "objects_between = find_objects_between(you, san)\n",
    "\n",
    "if objects_between != \"The orbits don't share any objects.\":\n",
    "    # Find path between YOU and SAN\n",
    "    path = objects_between + san[san.index(objects_between[-1]) + 1:]\n",
    "    # Print results\n",
    "    print(f\"The number of orbital transfers is {len(path)}.\")\n",
    "else:\n",
    "    # Error handling message\n",
    "    print(objects_between)"
   ]
  }
 ],
 "metadata": {
  "kernelspec": {
   "display_name": "Python 3",
   "language": "python",
   "name": "python3"
  },
  "language_info": {
   "codemirror_mode": {
    "name": "ipython",
    "version": 3
   },
   "file_extension": ".py",
   "mimetype": "text/x-python",
   "name": "python",
   "nbconvert_exporter": "python",
   "pygments_lexer": "ipython3",
   "version": "3.7.4"
  }
 },
 "nbformat": 4,
 "nbformat_minor": 2
}
