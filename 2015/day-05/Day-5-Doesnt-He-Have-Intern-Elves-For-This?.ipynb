{
 "cells": [
  {
   "cell_type": "markdown",
   "metadata": {},
   "source": [
    "# Day 5: Doesn't He Have Intern-Elves For This?\n",
    "\n",
    "## PART I\n",
    "\n",
    "Santa needs help figuring out which strings in his text file are naughty or nice.\n",
    "\n",
    "A nice string is one with all of the following properties:\n",
    "\n",
    "- It contains at least three vowels (`aeiou` only), like `aei`, `xazegov`, or `aeiouaeiouaeiou`.\n",
    "- It contains at least one letter that appears twice in a row, like `xx`, `abcdde` (`dd`), or `aabbccdd` (`aa`, `bb`, `cc`, or `dd`).\n",
    "- It does not contain the strings `ab`, `cd`, `pq`, or `xy`, even if they are part of one of the other requirements.\n",
    "\n",
    "For example:\n",
    "\n",
    "- `ugknbfddgicrmopn` is nice because it has at least three vowels (u...i...o...), a double letter (...dd...), and none of the disallowed substrings.\n",
    "- `aaa` is nice because it has at least three vowels and a double letter, even though the letters used by different rules overlap.\n",
    "- `jchzalrnumimnmhp` is naughty because it has no double letter.\n",
    "- `haegwjzuvuyypxyu` is naughty because it contains the string `xy`.\n",
    "- `dvszwmarrgswjxmb` is naughty because it contains only one vowel.\n",
    "\n",
    "How many strings are nice?"
   ]
  },
  {
   "cell_type": "code",
   "execution_count": 1,
   "metadata": {},
   "outputs": [
    {
     "name": "stdout",
     "output_type": "stream",
     "text": [
      "The number of nice string is 236.\n"
     ]
    }
   ],
   "source": [
    "def detect_nice_strings(string):\n",
    "    stop_words = ['ab', 'cd', 'pq', 'xy']\n",
    "    no_stop_word = all(stop_word not in string for stop_word in stop_words)\n",
    "    has_three_vowels = sum(string.count(vowel) for vowel in 'aeiou') > 2\n",
    "    has_pair = any(string[idx] == string[idx + 1] for idx in range(len(string) - 1))\n",
    "    return no_stop_word and has_three_vowels and has_pair\n",
    "\n",
    "strings = open(\"./data/strings.txt\").read().split('\\n')\n",
    "nice_strings = list(filter(detect_nice_strings, strings))\n",
    "\n",
    "print(f\"The number of nice string is {len(nice_strings)}.\")"
   ]
  },
  {
   "cell_type": "markdown",
   "metadata": {},
   "source": [
    "## PART II\n",
    "\n",
    "Realizing the error of his ways, Santa has switched to a better model of determining whether a string is naughty or nice. None of the old rules apply, as they are all clearly ridiculous.\n",
    "\n",
    "Now, a nice string is one with all of the following properties:\n",
    "\n",
    "- It contains a pair of any two letters that appears at least twice in the string without overlapping, like `xyxy` (`xy`) or aabcdefgaa (`aa`), but not like `aaa` (`aa`, but it overlaps).\n",
    "\n",
    "- It contains at least one letter which repeats with exactly one letter between them, like `xyx`, `abcdefeghi` (`efe`), or even `aaa`.\n",
    "\n",
    "For example:\n",
    "\n",
    "- `qjhvhtzxzqqjkmpb` is nice because is has a pair that appears twice (`qj`) and a letter that repeats with exactly one letter between them (`zxz`).\n",
    "- `xxyxx` is nice because it has a pair that appears twice and a letter that repeats with one between, even though the letters used by each rule overlap.\n",
    "- `uurcxstgmygtbstg` is naughty because it has a pair (`tg`) but no repeat with a single letter between them.\n",
    "- `ieodomkazucvgmuy` is naughty because it has a repeating letter with one between (`odo`), but no pair that appears twice.\n",
    "\n",
    "How many strings are nice under these new rules?"
   ]
  },
  {
   "cell_type": "code",
   "execution_count": 2,
   "metadata": {},
   "outputs": [
    {
     "name": "stdout",
     "output_type": "stream",
     "text": [
      "The number of nice string is 51.\n"
     ]
    }
   ],
   "source": [
    "def detect_nice_strings(string):\n",
    "    in_between = any(string[idx - 1] == string[idx + 1] for idx in range(1, len(string) - 1))\n",
    "    has_pair = any([string[idx] + string[idx + 1] in string[idx + 2:] for idx in range(len(string) - 1)])\n",
    "    return in_between and has_pair\n",
    "\n",
    "nice_strings = list(filter(detect_nice_strings, strings))\n",
    "\n",
    "print(f\"The number of nice string is {len(nice_strings)}.\")"
   ]
  }
 ],
 "metadata": {
  "kernelspec": {
   "display_name": "Python 3",
   "language": "python",
   "name": "python3"
  },
  "language_info": {
   "codemirror_mode": {
    "name": "ipython",
    "version": 3
   },
   "file_extension": ".py",
   "mimetype": "text/x-python",
   "name": "python",
   "nbconvert_exporter": "python",
   "pygments_lexer": "ipython3",
   "version": "3.7.4"
  }
 },
 "nbformat": 4,
 "nbformat_minor": 2
}
