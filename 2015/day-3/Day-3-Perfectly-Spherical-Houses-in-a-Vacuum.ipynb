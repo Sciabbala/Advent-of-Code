{
 "cells": [
  {
   "cell_type": "markdown",
   "metadata": {},
   "source": [
    "# Day 3: Perfectly Spherical Houses in a Vacuum\n",
    "## PART I\n",
    "Santa is delivering presents to an infinite two-dimensional grid of houses.\n",
    "\n",
    "He begins by delivering a present to the house at his starting location, and then an elf at the North Pole calls him via radio and tells him where to move next. Moves are always exactly one house to the north (^), south (v), east (>), or west (<). After each move, he delivers another present to the house at his new location.\n",
    "\n",
    "However, the elf back at the north pole has had a little too much eggnog, and so his directions are a little off, and Santa ends up visiting some houses more than once. How many houses receive at least one present?\n",
    "\n",
    "For example:\n",
    "\n",
    "- \\> delivers presents to 2 houses: one at the starting location, and one to the east.\n",
    "- ^>v< delivers presents to 4 houses in a square, including twice to the house at his starting/ending location.\n",
    "- ^v^v^v^v^v delivers a bunch of presents to some very lucky children at only 2 houses."
   ]
  },
  {
   "cell_type": "code",
   "execution_count": 1,
   "metadata": {},
   "outputs": [],
   "source": [
    "# Read the directions\n",
    "directions = open(\"./data/directions.txt\").read()"
   ]
  },
  {
   "cell_type": "code",
   "execution_count": 2,
   "metadata": {},
   "outputs": [],
   "source": [
    "def find_next_house(current, move):\n",
    "    \"\"\"\n",
    "    Function to find the next house position. \n",
    "    Input: current (tuple), move(tuple)\n",
    "    Output: next house position (tuple)\n",
    "    \"\"\"\n",
    "    return (current[0] + move[0], current[1] + move[1])"
   ]
  },
  {
   "cell_type": "code",
   "execution_count": 3,
   "metadata": {},
   "outputs": [
    {
     "name": "stdout",
     "output_type": "stream",
     "text": [
      "Santa delivers presents to 2592 houses.\n"
     ]
    }
   ],
   "source": [
    "# Create a list to store Santa's route\n",
    "location = [(0,0)]\n",
    "\n",
    "# Create a dictionary with the position increment for each direction sign\n",
    "moves = {'>': (0,1), '^': (1,0), 'v': (-1,0), '<': (0,-1)}\n",
    "\n",
    "# For each direction, compute Santa's next poisition\n",
    "for direction in directions:\n",
    "    location.append(find_next_house(location[-1], moves[direction]))\n",
    "    \n",
    "# Print the number of diferent houses Santa has visited\n",
    "print(f\"Santa delivers presents to {len(set(location))} houses.\")"
   ]
  },
  {
   "cell_type": "markdown",
   "metadata": {},
   "source": [
    "## PART II\n",
    "\n",
    "The next year, to speed up the process, Santa creates a robot version of himself, Robo-Santa, to deliver presents with him.\n",
    "\n",
    "Santa and Robo-Santa start at the same location (delivering two presents to the same starting house), then take turns moving based on instructions from the elf, who is eggnoggedly reading from the same script as the previous year.\n",
    "\n",
    "This year, how many houses receive at least one present?\n",
    "\n",
    "For example:\n",
    "\n",
    "^v delivers presents to 3 houses, because Santa goes north, and then Robo-Santa goes south.\n",
    "^>v< now delivers presents to 3 houses, and Santa and Robo-Santa end up back where they started.\n",
    "^v^v^v^v^v now delivers presents to 11 houses, with Santa going one direction and Robo-Santa going the other."
   ]
  },
  {
   "cell_type": "code",
   "execution_count": 4,
   "metadata": {},
   "outputs": [
    {
     "name": "stdout",
     "output_type": "stream",
     "text": [
      "Santa delivers presents to 2360 houses.\n"
     ]
    }
   ],
   "source": [
    "santa_location = [(0,0)]\n",
    "robot_location = [(0,0)]\n",
    "\n",
    "# For each direction, compute Santa's and robot's next poisitions\n",
    "for idx in range(len(directions)):\n",
    "    if idx % 2:\n",
    "        santa_location.append(find_next_house(santa_location[-1], moves[directions[idx]]))\n",
    "    else:\n",
    "        robot_location.append(find_next_house(robot_location[-1], moves[directions[idx]]))\n",
    "    \n",
    "# Print the number of diferent houses Santa has visited\n",
    "print(f\"Santa delivers presents to {len(set(santa_location + robot_location))} houses.\")"
   ]
  }
 ],
 "metadata": {
  "kernelspec": {
   "display_name": "Python 3",
   "language": "python",
   "name": "python3"
  },
  "language_info": {
   "codemirror_mode": {
    "name": "ipython",
    "version": 3
   },
   "file_extension": ".py",
   "mimetype": "text/x-python",
   "name": "python",
   "nbconvert_exporter": "python",
   "pygments_lexer": "ipython3",
   "version": "3.7.4"
  }
 },
 "nbformat": 4,
 "nbformat_minor": 2
}
