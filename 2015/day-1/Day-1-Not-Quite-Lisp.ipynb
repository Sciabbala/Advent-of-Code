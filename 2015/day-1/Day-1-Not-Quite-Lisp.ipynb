{
 "cells": [
  {
   "cell_type": "markdown",
   "metadata": {},
   "source": [
    "# Day 1: Not Quite Lisp\n",
    "\n",
    "## PART I\n",
    "Santa was hoping for a white Christmas, but his weather machine's \"snow\" function is powered by stars, and he's fresh out! To save Christmas, he needs you to collect fifty stars by December 25th.\n",
    "\n",
    "Collect stars by helping Santa solve puzzles. Two puzzles will be made available on each day in the Advent calendar; the second puzzle is unlocked when you complete the first. Each puzzle grants one star. Good luck!\n",
    "\n",
    "Here's an easy puzzle to warm you up.\n",
    "\n",
    "Santa is trying to deliver presents in a large apartment building, but he can't find the right floor - the directions he got are a little confusing. He starts on the ground floor (floor 0) and then follows the instructions one character at a time.\n",
    "\n",
    "An opening parenthesis, (, means he should go up one floor, and a closing parenthesis, ), means he should go down one floor.\n",
    "\n",
    "The apartment building is very tall, and the basement is very deep; he will never find the top or bottom floors.\n",
    "\n",
    "For example:\n",
    "\n",
    "- ```(())``` and ```()()``` both result in floor 0.\n",
    "- ```(((``` and ```(()(()(``` both result in floor 3.\n",
    "- ```))(((((``` also results in floor 3.\n",
    "- ```())``` and ```))(``` both result in floor -1 (the first basement level).\n",
    "- ```)))``` and ```)())())``` both result in floor -3.\n",
    "\n",
    "\n",
    "To what floor do the instructions take Santa?"
   ]
  },
  {
   "cell_type": "code",
   "execution_count": 1,
   "metadata": {},
   "outputs": [],
   "source": [
    "def return_floor(char):\n",
    "    return 1 if char == '(' else -1"
   ]
  },
  {
   "cell_type": "code",
   "execution_count": 2,
   "metadata": {},
   "outputs": [
    {
     "name": "stdout",
     "output_type": "stream",
     "text": [
      "Santa needs to go to floor 74.\n"
     ]
    }
   ],
   "source": [
    "# Read the directions from file\n",
    "directions = [char for line in open(\"./data/directions.txt\") for char in line]\n",
    "\n",
    "# Find the floor number\n",
    "floor = sum(return_floor(direction) for direction in directions)\n",
    "\n",
    "# Print the solution\n",
    "print(f\"Santa needs to go to floor {floor}.\")"
   ]
  },
  {
   "cell_type": "markdown",
   "metadata": {},
   "source": [
    "## PART II\n",
    "Now, given the same instructions, find the position of the first character that causes him to enter the basement (floor -1). The first character in the instructions has position 1, the second character has position 2, and so on.\n",
    "\n",
    "For example:\n",
    "\n",
    "- ```)``` causes him to enter the basement at character position 1.\n",
    "- ```()())``` causes him to enter the basement at character position 5.\n",
    "\n",
    "What is the position of the character that causes Santa to first enter the basement?"
   ]
  },
  {
   "cell_type": "code",
   "execution_count": 3,
   "metadata": {},
   "outputs": [
    {
     "name": "stdout",
     "output_type": "stream",
     "text": [
      "The position is 1795.\n"
     ]
    }
   ],
   "source": [
    "# Create variable to store the current floor after each direction\n",
    "current_floor = 0\n",
    "\n",
    "# Store the floor for each direction\n",
    "for idx in range(len(directions)):\n",
    "    # Update floor\n",
    "    current_floor += return_floor(directions[idx])\n",
    "    # Is Santa in the basement?\n",
    "    if current_floor < 0:\n",
    "        # Yes! Return the position\n",
    "        print(f\"The position is {idx + 1}.\")\n",
    "        break"
   ]
  }
 ],
 "metadata": {
  "kernelspec": {
   "display_name": "Python 3",
   "language": "python",
   "name": "python3"
  },
  "language_info": {
   "codemirror_mode": {
    "name": "ipython",
    "version": 3
   },
   "file_extension": ".py",
   "mimetype": "text/x-python",
   "name": "python",
   "nbconvert_exporter": "python",
   "pygments_lexer": "ipython3",
   "version": "3.7.4"
  }
 },
 "nbformat": 4,
 "nbformat_minor": 2
}
